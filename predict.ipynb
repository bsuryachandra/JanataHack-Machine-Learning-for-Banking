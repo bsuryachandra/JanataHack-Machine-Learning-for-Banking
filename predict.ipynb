{
 "cells": [
  {
   "cell_type": "markdown",
   "metadata": {},
   "source": [
    "# DISCLAIMER: Almost no finetuning"
   ]
  },
  {
   "cell_type": "code",
   "execution_count": 1,
   "metadata": {},
   "outputs": [
    {
     "name": "stderr",
     "output_type": "stream",
     "text": [
      "Using TensorFlow backend.\n"
     ]
    }
   ],
   "source": [
    "import pandas as pd\n",
    "import numpy as np\n",
    "from catboost import CatBoostClassifier\n",
    "from sklearn.preprocessing import LabelEncoder\n",
    "from sklearn.model_selection import train_test_split, KFold, StratifiedKFold\n",
    "from lightgbm import LGBMClassifier\n",
    "from sklearn.metrics import f1_score\n",
    "from imblearn.over_sampling import SMOTE\n",
    "from collections import Counter\n",
    "import warnings\n",
    "warnings.filterwarnings(\"ignore\")"
   ]
  },
  {
   "cell_type": "markdown",
   "metadata": {},
   "source": [
    "# CATBOOST"
   ]
  },
  {
   "cell_type": "markdown",
   "metadata": {},
   "source": [
    "### Pre-processing specific to CATBOOST"
   ]
  },
  {
   "cell_type": "code",
   "execution_count": 20,
   "metadata": {},
   "outputs": [
    {
     "data": {
      "text/html": [
       "<div>\n",
       "<style scoped>\n",
       "    .dataframe tbody tr th:only-of-type {\n",
       "        vertical-align: middle;\n",
       "    }\n",
       "\n",
       "    .dataframe tbody tr th {\n",
       "        vertical-align: top;\n",
       "    }\n",
       "\n",
       "    .dataframe thead th {\n",
       "        text-align: right;\n",
       "    }\n",
       "</style>\n",
       "<table border=\"1\" class=\"dataframe\">\n",
       "  <thead>\n",
       "    <tr style=\"text-align: right;\">\n",
       "      <th></th>\n",
       "      <th>Loan_Amount_Requested</th>\n",
       "      <th>Length_Employed</th>\n",
       "      <th>Home_Owner</th>\n",
       "      <th>Annual_Income</th>\n",
       "      <th>Income_Verified</th>\n",
       "      <th>Purpose_Of_Loan</th>\n",
       "      <th>Debt_To_Income</th>\n",
       "      <th>Inquiries_Last_6Mo</th>\n",
       "      <th>Months_Since_Deliquency</th>\n",
       "      <th>Number_Open_Accounts</th>\n",
       "      <th>Total_Accounts</th>\n",
       "      <th>Gender</th>\n",
       "      <th>Interest_Rate</th>\n",
       "      <th>Number_Invalid_Acc</th>\n",
       "      <th>Number_Years_To_Repay_Debt</th>\n",
       "    </tr>\n",
       "  </thead>\n",
       "  <tbody>\n",
       "    <tr>\n",
       "      <th>0</th>\n",
       "      <td>7000</td>\n",
       "      <td>&lt; 1 year</td>\n",
       "      <td>Rent</td>\n",
       "      <td>68000.000000</td>\n",
       "      <td>not verified</td>\n",
       "      <td>car</td>\n",
       "      <td>18.37</td>\n",
       "      <td>0</td>\n",
       "      <td>0.0</td>\n",
       "      <td>9</td>\n",
       "      <td>14</td>\n",
       "      <td>Female</td>\n",
       "      <td>1</td>\n",
       "      <td>5</td>\n",
       "      <td>0.102941</td>\n",
       "    </tr>\n",
       "    <tr>\n",
       "      <th>1</th>\n",
       "      <td>30000</td>\n",
       "      <td>4 years</td>\n",
       "      <td>Mortgage</td>\n",
       "      <td>73331.159434</td>\n",
       "      <td>VERIFIED - income</td>\n",
       "      <td>debt_consolidation</td>\n",
       "      <td>14.93</td>\n",
       "      <td>0</td>\n",
       "      <td>17.0</td>\n",
       "      <td>12</td>\n",
       "      <td>24</td>\n",
       "      <td>Female</td>\n",
       "      <td>3</td>\n",
       "      <td>12</td>\n",
       "      <td>0.409103</td>\n",
       "    </tr>\n",
       "    <tr>\n",
       "      <th>2</th>\n",
       "      <td>24725</td>\n",
       "      <td>7 years</td>\n",
       "      <td>Mortgage</td>\n",
       "      <td>75566.400000</td>\n",
       "      <td>VERIFIED - income source</td>\n",
       "      <td>debt_consolidation</td>\n",
       "      <td>15.88</td>\n",
       "      <td>0</td>\n",
       "      <td>0.0</td>\n",
       "      <td>12</td>\n",
       "      <td>16</td>\n",
       "      <td>Male</td>\n",
       "      <td>3</td>\n",
       "      <td>4</td>\n",
       "      <td>0.327196</td>\n",
       "    </tr>\n",
       "    <tr>\n",
       "      <th>3</th>\n",
       "      <td>16000</td>\n",
       "      <td>&lt; 1 year</td>\n",
       "      <td>NaN</td>\n",
       "      <td>56160.000000</td>\n",
       "      <td>VERIFIED - income source</td>\n",
       "      <td>debt_consolidation</td>\n",
       "      <td>14.34</td>\n",
       "      <td>3</td>\n",
       "      <td>0.0</td>\n",
       "      <td>16</td>\n",
       "      <td>22</td>\n",
       "      <td>Male</td>\n",
       "      <td>3</td>\n",
       "      <td>6</td>\n",
       "      <td>0.284900</td>\n",
       "    </tr>\n",
       "    <tr>\n",
       "      <th>4</th>\n",
       "      <td>17000</td>\n",
       "      <td>8 years</td>\n",
       "      <td>Own</td>\n",
       "      <td>96000.000000</td>\n",
       "      <td>VERIFIED - income source</td>\n",
       "      <td>debt_consolidation</td>\n",
       "      <td>22.17</td>\n",
       "      <td>1</td>\n",
       "      <td>0.0</td>\n",
       "      <td>19</td>\n",
       "      <td>30</td>\n",
       "      <td>Female</td>\n",
       "      <td>1</td>\n",
       "      <td>11</td>\n",
       "      <td>0.177083</td>\n",
       "    </tr>\n",
       "  </tbody>\n",
       "</table>\n",
       "</div>"
      ],
      "text/plain": [
       "   Loan_Amount_Requested Length_Employed Home_Owner  Annual_Income  \\\n",
       "0                   7000        < 1 year       Rent   68000.000000   \n",
       "1                  30000         4 years   Mortgage   73331.159434   \n",
       "2                  24725         7 years   Mortgage   75566.400000   \n",
       "3                  16000        < 1 year        NaN   56160.000000   \n",
       "4                  17000         8 years        Own   96000.000000   \n",
       "\n",
       "            Income_Verified     Purpose_Of_Loan  Debt_To_Income  \\\n",
       "0              not verified                 car           18.37   \n",
       "1         VERIFIED - income  debt_consolidation           14.93   \n",
       "2  VERIFIED - income source  debt_consolidation           15.88   \n",
       "3  VERIFIED - income source  debt_consolidation           14.34   \n",
       "4  VERIFIED - income source  debt_consolidation           22.17   \n",
       "\n",
       "   Inquiries_Last_6Mo  Months_Since_Deliquency  Number_Open_Accounts  \\\n",
       "0                   0                      0.0                     9   \n",
       "1                   0                     17.0                    12   \n",
       "2                   0                      0.0                    12   \n",
       "3                   3                      0.0                    16   \n",
       "4                   1                      0.0                    19   \n",
       "\n",
       "   Total_Accounts  Gender  Interest_Rate  Number_Invalid_Acc  \\\n",
       "0              14  Female              1                   5   \n",
       "1              24  Female              3                  12   \n",
       "2              16    Male              3                   4   \n",
       "3              22    Male              3                   6   \n",
       "4              30  Female              1                  11   \n",
       "\n",
       "   Number_Years_To_Repay_Debt  \n",
       "0                    0.102941  \n",
       "1                    0.409103  \n",
       "2                    0.327196  \n",
       "3                    0.284900  \n",
       "4                    0.177083  "
      ]
     },
     "execution_count": 20,
     "metadata": {},
     "output_type": "execute_result"
    }
   ],
   "source": [
    "df_train = pd.read_csv(\"train_fNxu4vz.csv\")\n",
    "df_test = pd.read_csv(\"test_fjtUOL8.csv\")\n",
    "\n",
    "# Convert to numeric\n",
    "df_train[\"Loan_Amount_Requested\"] = df_train[\"Loan_Amount_Requested\"].str.replace(\",\", \"\")\n",
    "df_train[\"Loan_Amount_Requested\"] = pd.to_numeric(df_train[\"Loan_Amount_Requested\"])\n",
    "df_test[\"Loan_Amount_Requested\"] = df_test[\"Loan_Amount_Requested\"].str.replace(\",\", \"\")\n",
    "df_test[\"Loan_Amount_Requested\"] = pd.to_numeric(df_test[\"Loan_Amount_Requested\"])\n",
    "\n",
    "# Fill NaN\n",
    "df_train[\"Length_Employed\"].fillna('NaN', inplace=True)\n",
    "df_test[\"Length_Employed\"].fillna('NaN', inplace=True)\n",
    "\n",
    "df_train[\"Home_Owner\"].fillna('NaN', inplace=True)\n",
    "df_test[\"Home_Owner\"].fillna('NaN', inplace=True)\n",
    "\n",
    "df_train[\"Income_Verified\"].fillna('NaN', inplace=True)\n",
    "df_test[\"Income_Verified\"].fillna('NaN', inplace=True)\n",
    "\n",
    "df_train[\"Purpose_Of_Loan\"].fillna('NaN', inplace=True)\n",
    "df_test[\"Purpose_Of_Loan\"].fillna('NaN', inplace=True)\n",
    "\n",
    "df_train[\"Gender\"].fillna('NaN', inplace=True)\n",
    "df_test[\"Gender\"].fillna('NaN', inplace=True)\n",
    "\n",
    "# Drop loan ids\n",
    "df_train = df_train.drop([\"Loan_ID\"], axis=1)\n",
    "loan_ids = df_test[\"Loan_ID\"].values\n",
    "df_test = df_test.drop([\"Loan_ID\"], axis=1)\n",
    "\n",
    "# Fill NaN with mean\n",
    "df_train[\"Annual_Income\"].fillna(df_train[\"Annual_Income\"].mean(), inplace=True)\n",
    "df_test[\"Annual_Income\"].fillna(df_test[\"Annual_Income\"].mean(), inplace=True)\n",
    "\n",
    "# Assumption: If it is NaN, then user has no deliquency, so set with 0\n",
    "df_train[\"Months_Since_Deliquency\"].fillna(0, inplace=True)\n",
    "df_test[\"Months_Since_Deliquency\"].fillna(0, inplace=True)\n",
    "\n",
    "# New feature\n",
    "df_train[\"Number_Invalid_Acc\"] = df_train[\"Total_Accounts\"] - df_train[\"Number_Open_Accounts\"]\n",
    "df_test[\"Number_Invalid_Acc\"] = df_test[\"Total_Accounts\"] - df_test[\"Number_Open_Accounts\"]\n",
    "\n",
    "# New feature\n",
    "df_train[\"Number_Years_To_Repay_Debt\"] = df_train[\"Loan_Amount_Requested\"]/df_train[\"Annual_Income\"]\n",
    "df_test[\"Number_Years_To_Repay_Debt\"] = df_test[\"Loan_Amount_Requested\"]/df_test[\"Annual_Income\"]\n",
    "\n",
    "df_train.head()"
   ]
  },
  {
   "cell_type": "markdown",
   "metadata": {},
   "source": [
    "### Convert to X and Y"
   ]
  },
  {
   "cell_type": "code",
   "execution_count": 21,
   "metadata": {},
   "outputs": [
    {
     "data": {
      "text/plain": [
       "((164309, 14), (164309,), (109541, 14))"
      ]
     },
     "execution_count": 21,
     "metadata": {},
     "output_type": "execute_result"
    }
   ],
   "source": [
    "X_train, Y = df_train.drop([\"Interest_Rate\"], axis=1).values, df_train[\"Interest_Rate\"].values\n",
    "X_test = df_test.values\n",
    "\n",
    "X_train.shape, Y.shape, X_test.shape"
   ]
  },
  {
   "cell_type": "markdown",
   "metadata": {},
   "source": [
    "### Perform Validation"
   ]
  },
  {
   "cell_type": "code",
   "execution_count": 4,
   "metadata": {},
   "outputs": [
    {
     "name": "stdout",
     "output_type": "stream",
     "text": [
      "Learning rate set to 0.175594\n",
      "0:\tlearn: 1.0680192\ttotal: 21.7ms\tremaining: 21.7s\n",
      "500:\tlearn: 0.9021249\ttotal: 8.52s\tremaining: 8.49s\n",
      "999:\tlearn: 0.8880498\ttotal: 17s\tremaining: 0us\n",
      "0.5360536680905043\n",
      "Learning rate set to 0.175594\n",
      "0:\tlearn: 1.0675869\ttotal: 20.8ms\tremaining: 20.8s\n",
      "500:\tlearn: 0.9004817\ttotal: 8.4s\tremaining: 8.37s\n",
      "999:\tlearn: 0.8868518\ttotal: 16.8s\tremaining: 0us\n",
      "0.532689553480665\n",
      "Learning rate set to 0.175594\n",
      "0:\tlearn: 1.0678937\ttotal: 20.3ms\tremaining: 20.3s\n",
      "500:\tlearn: 0.9014558\ttotal: 8.3s\tremaining: 8.27s\n",
      "999:\tlearn: 0.8879120\ttotal: 16.5s\tremaining: 0us\n",
      "0.534482020333879\n",
      "Learning rate set to 0.175594\n",
      "0:\tlearn: 1.0679780\ttotal: 18.7ms\tremaining: 18.7s\n",
      "500:\tlearn: 0.9014713\ttotal: 8.44s\tremaining: 8.4s\n",
      "999:\tlearn: 0.8873895\ttotal: 17s\tremaining: 0us\n",
      "0.5342618741257221\n",
      "Learning rate set to 0.175594\n",
      "0:\tlearn: 1.0680207\ttotal: 19.7ms\tremaining: 19.7s\n",
      "500:\tlearn: 0.9021192\ttotal: 8.28s\tremaining: 8.25s\n",
      "999:\tlearn: 0.8883796\ttotal: 16.7s\tremaining: 0us\n",
      "0.5350554008296029\n",
      "Average:  0.5345085033720748\n"
     ]
    }
   ],
   "source": [
    "kfold, scores = KFold(n_splits=5, shuffle=True, random_state=0), list()\n",
    "for train, test in kfold.split(X_train):\n",
    "    x_train, x_test = X_train[train], X_train[test]\n",
    "    y_train, y_test = Y[train], Y[test]\n",
    "    \n",
    "    model = CatBoostClassifier(random_state=27, max_depth=4, task_type=\"GPU\", devices=\"0:1\", n_estimators=1000, verbose=500)\n",
    "    model.fit(x_train, y_train, cat_features=[1, 2, 4, 5, 11])\n",
    "    preds = model.predict(x_test)\n",
    "    score = f1_score(y_test, preds, average=\"weighted\")\n",
    "    scores.append(score)\n",
    "    print(score)\n",
    "print(\"Average: \", sum(scores)/len(scores))"
   ]
  },
  {
   "cell_type": "markdown",
   "metadata": {},
   "source": [
    "### Make final prediction using Catboost"
   ]
  },
  {
   "cell_type": "code",
   "execution_count": 22,
   "metadata": {},
   "outputs": [
    {
     "name": "stdout",
     "output_type": "stream",
     "text": [
      "Learning rate set to 0.183772\n",
      "0:\tlearn: 1.0665952\ttotal: 23.5ms\tremaining: 23.4s\n",
      "500:\tlearn: 0.9030382\ttotal: 8.52s\tremaining: 8.49s\n",
      "999:\tlearn: 0.8912167\ttotal: 16.9s\tremaining: 0us\n"
     ]
    }
   ],
   "source": [
    "model = CatBoostClassifier(random_state=27, task_type=\"GPU\", devices=\"0:1\", n_estimators=1000, max_depth=4, verbose=500)\n",
    "model.fit(X_train, Y, cat_features=[1, 2, 4, 5, 11])\n",
    "preds1 = model.predict_proba(X_test)"
   ]
  },
  {
   "cell_type": "markdown",
   "metadata": {},
   "source": [
    "### Check Feature Importance"
   ]
  },
  {
   "cell_type": "code",
   "execution_count": 23,
   "metadata": {},
   "outputs": [
    {
     "data": {
      "text/plain": [
       "<matplotlib.axes._subplots.AxesSubplot at 0x18f033e8e88>"
      ]
     },
     "execution_count": 23,
     "metadata": {},
     "output_type": "execute_result"
    },
    {
     "data": {
      "image/png": "[encoded data removed]",
      "text/plain": [
       "<Figure size 576x720 with 1 Axes>"
      ]
     },
     "metadata": {
      "needs_background": "light"
     },
     "output_type": "display_data"
    }
   ],
   "source": [
    "feat_imp = pd.Series(model.feature_importances_, index=df_train.drop([\"Interest_Rate\"], axis=1).columns)\n",
    "feat_imp.nlargest(30).plot(kind='barh', figsize=(8,10))"
   ]
  },
  {
   "cell_type": "markdown",
   "metadata": {},
   "source": [
    "# LIGHTGBM"
   ]
  },
  {
   "cell_type": "markdown",
   "metadata": {},
   "source": [
    "### Pre-processing specific to LightGBM"
   ]
  },
  {
   "cell_type": "code",
   "execution_count": 14,
   "metadata": {},
   "outputs": [
    {
     "data": {
      "text/html": [
       "<div>\n",
       "<style scoped>\n",
       "    .dataframe tbody tr th:only-of-type {\n",
       "        vertical-align: middle;\n",
       "    }\n",
       "\n",
       "    .dataframe tbody tr th {\n",
       "        vertical-align: top;\n",
       "    }\n",
       "\n",
       "    .dataframe thead th {\n",
       "        text-align: right;\n",
       "    }\n",
       "</style>\n",
       "<table border=\"1\" class=\"dataframe\">\n",
       "  <thead>\n",
       "    <tr style=\"text-align: right;\">\n",
       "      <th></th>\n",
       "      <th>Loan_Amount_Requested</th>\n",
       "      <th>Length_Employed</th>\n",
       "      <th>Home_Owner</th>\n",
       "      <th>Annual_Income</th>\n",
       "      <th>Income_Verified</th>\n",
       "      <th>Purpose_Of_Loan</th>\n",
       "      <th>Debt_To_Income</th>\n",
       "      <th>Inquiries_Last_6Mo</th>\n",
       "      <th>Months_Since_Deliquency</th>\n",
       "      <th>Number_Open_Accounts</th>\n",
       "      <th>Total_Accounts</th>\n",
       "      <th>Gender</th>\n",
       "      <th>Interest_Rate</th>\n",
       "      <th>Number_Invalid_Acc</th>\n",
       "      <th>Number_Years_To_Repay_Debt</th>\n",
       "    </tr>\n",
       "  </thead>\n",
       "  <tbody>\n",
       "    <tr>\n",
       "      <th>0</th>\n",
       "      <td>7000</td>\n",
       "      <td>10</td>\n",
       "      <td>5</td>\n",
       "      <td>68000.000000</td>\n",
       "      <td>2</td>\n",
       "      <td>0</td>\n",
       "      <td>18.37</td>\n",
       "      <td>0</td>\n",
       "      <td>0.0</td>\n",
       "      <td>9</td>\n",
       "      <td>14</td>\n",
       "      <td>0</td>\n",
       "      <td>1</td>\n",
       "      <td>5</td>\n",
       "      <td>0.102941</td>\n",
       "    </tr>\n",
       "    <tr>\n",
       "      <th>1</th>\n",
       "      <td>30000</td>\n",
       "      <td>4</td>\n",
       "      <td>0</td>\n",
       "      <td>73331.159434</td>\n",
       "      <td>0</td>\n",
       "      <td>2</td>\n",
       "      <td>14.93</td>\n",
       "      <td>0</td>\n",
       "      <td>17.0</td>\n",
       "      <td>12</td>\n",
       "      <td>24</td>\n",
       "      <td>0</td>\n",
       "      <td>3</td>\n",
       "      <td>12</td>\n",
       "      <td>0.409103</td>\n",
       "    </tr>\n",
       "    <tr>\n",
       "      <th>2</th>\n",
       "      <td>24725</td>\n",
       "      <td>7</td>\n",
       "      <td>0</td>\n",
       "      <td>75566.400000</td>\n",
       "      <td>1</td>\n",
       "      <td>2</td>\n",
       "      <td>15.88</td>\n",
       "      <td>0</td>\n",
       "      <td>0.0</td>\n",
       "      <td>12</td>\n",
       "      <td>16</td>\n",
       "      <td>1</td>\n",
       "      <td>3</td>\n",
       "      <td>4</td>\n",
       "      <td>0.327196</td>\n",
       "    </tr>\n",
       "    <tr>\n",
       "      <th>3</th>\n",
       "      <td>16000</td>\n",
       "      <td>10</td>\n",
       "      <td>1</td>\n",
       "      <td>56160.000000</td>\n",
       "      <td>1</td>\n",
       "      <td>2</td>\n",
       "      <td>14.34</td>\n",
       "      <td>3</td>\n",
       "      <td>0.0</td>\n",
       "      <td>16</td>\n",
       "      <td>22</td>\n",
       "      <td>1</td>\n",
       "      <td>3</td>\n",
       "      <td>6</td>\n",
       "      <td>0.284900</td>\n",
       "    </tr>\n",
       "    <tr>\n",
       "      <th>4</th>\n",
       "      <td>17000</td>\n",
       "      <td>8</td>\n",
       "      <td>4</td>\n",
       "      <td>96000.000000</td>\n",
       "      <td>1</td>\n",
       "      <td>2</td>\n",
       "      <td>22.17</td>\n",
       "      <td>1</td>\n",
       "      <td>0.0</td>\n",
       "      <td>19</td>\n",
       "      <td>30</td>\n",
       "      <td>0</td>\n",
       "      <td>1</td>\n",
       "      <td>11</td>\n",
       "      <td>0.177083</td>\n",
       "    </tr>\n",
       "  </tbody>\n",
       "</table>\n",
       "</div>"
      ],
      "text/plain": [
       "   Loan_Amount_Requested  Length_Employed  Home_Owner  Annual_Income  \\\n",
       "0                   7000               10           5   68000.000000   \n",
       "1                  30000                4           0   73331.159434   \n",
       "2                  24725                7           0   75566.400000   \n",
       "3                  16000               10           1   56160.000000   \n",
       "4                  17000                8           4   96000.000000   \n",
       "\n",
       "   Income_Verified  Purpose_Of_Loan  Debt_To_Income  Inquiries_Last_6Mo  \\\n",
       "0                2                0           18.37                   0   \n",
       "1                0                2           14.93                   0   \n",
       "2                1                2           15.88                   0   \n",
       "3                1                2           14.34                   3   \n",
       "4                1                2           22.17                   1   \n",
       "\n",
       "   Months_Since_Deliquency  Number_Open_Accounts  Total_Accounts  Gender  \\\n",
       "0                      0.0                     9              14       0   \n",
       "1                     17.0                    12              24       0   \n",
       "2                      0.0                    12              16       1   \n",
       "3                      0.0                    16              22       1   \n",
       "4                      0.0                    19              30       0   \n",
       "\n",
       "   Interest_Rate  Number_Invalid_Acc  Number_Years_To_Repay_Debt  \n",
       "0              1                   5                    0.102941  \n",
       "1              3                  12                    0.409103  \n",
       "2              3                   4                    0.327196  \n",
       "3              3                   6                    0.284900  \n",
       "4              1                  11                    0.177083  "
      ]
     },
     "execution_count": 14,
     "metadata": {},
     "output_type": "execute_result"
    }
   ],
   "source": [
    "df_train = pd.read_csv(\"train_fNxu4vz.csv\")\n",
    "df_test = pd.read_csv(\"test_fjtUOL8.csv\")\n",
    "\n",
    "# Convert to numeric\n",
    "df_train[\"Loan_Amount_Requested\"] = df_train[\"Loan_Amount_Requested\"].str.replace(\",\", \"\")\n",
    "df_train[\"Loan_Amount_Requested\"] = pd.to_numeric(df_train[\"Loan_Amount_Requested\"])\n",
    "df_test[\"Loan_Amount_Requested\"] = df_test[\"Loan_Amount_Requested\"].str.replace(\",\", \"\")\n",
    "df_test[\"Loan_Amount_Requested\"] = pd.to_numeric(df_test[\"Loan_Amount_Requested\"])\n",
    "\n",
    "# Fill NaN\n",
    "df_train[\"Length_Employed\"].fillna('NaN', inplace=True)\n",
    "df_test[\"Length_Employed\"].fillna('NaN', inplace=True)\n",
    "\n",
    "df_train[\"Home_Owner\"].fillna('NaN', inplace=True)\n",
    "df_test[\"Home_Owner\"].fillna('NaN', inplace=True)\n",
    "\n",
    "df_train[\"Purpose_Of_Loan\"].fillna('NaN', inplace=True)\n",
    "df_test[\"Purpose_Of_Loan\"].fillna('NaN', inplace=True)\n",
    "\n",
    "df_train[\"Gender\"].fillna('NaN', inplace=True)\n",
    "df_test[\"Gender\"].fillna('NaN', inplace=True)\n",
    "\n",
    "# Drop loan ids\n",
    "df_train = df_train.drop([\"Loan_ID\"], axis=1)\n",
    "loan_ids = df_test[\"Loan_ID\"].values\n",
    "df_test = df_test.drop([\"Loan_ID\"], axis=1)\n",
    "\n",
    "# Label Encode\n",
    "le = LabelEncoder()\n",
    "df_train[\"Length_Employed\"] = le.fit_transform(df_train[\"Length_Employed\"])\n",
    "df_test[\"Length_Employed\"] = le.transform(df_test[\"Length_Employed\"])\n",
    "\n",
    "df_train[\"Home_Owner\"] = le.fit_transform(df_train[\"Home_Owner\"])\n",
    "df_test[\"Home_Owner\"] = le.transform(df_test[\"Home_Owner\"])\n",
    "\n",
    "df_train[\"Income_Verified\"] = le.fit_transform(df_train[\"Income_Verified\"])\n",
    "df_test[\"Income_Verified\"] = le.transform(df_test[\"Income_Verified\"])\n",
    "\n",
    "df_train[\"Purpose_Of_Loan\"] = le.fit_transform(df_train[\"Purpose_Of_Loan\"])\n",
    "df_test[\"Purpose_Of_Loan\"] = le.transform(df_test[\"Purpose_Of_Loan\"])\n",
    "\n",
    "df_train[\"Gender\"] = le.fit_transform(df_train[\"Gender\"])\n",
    "df_test[\"Gender\"] = le.transform(df_test[\"Gender\"])\n",
    "\n",
    "# Fill NaN with mean\n",
    "df_train[\"Annual_Income\"].fillna(df_train[\"Annual_Income\"].mean(), inplace=True)\n",
    "df_test[\"Annual_Income\"].fillna(df_test[\"Annual_Income\"].mean(), inplace=True)\n",
    "\n",
    "# Assumption: If it is NaN, then user has no deliquency, so set with 0\n",
    "df_train[\"Months_Since_Deliquency\"].fillna(0, inplace=True)\n",
    "df_test[\"Months_Since_Deliquency\"].fillna(0, inplace=True)\n",
    "\n",
    "# New feature\n",
    "df_train[\"Number_Invalid_Acc\"] = df_train[\"Total_Accounts\"] - df_train[\"Number_Open_Accounts\"]\n",
    "df_test[\"Number_Invalid_Acc\"] = df_test[\"Total_Accounts\"] - df_test[\"Number_Open_Accounts\"]\n",
    "\n",
    "# New feature\n",
    "df_train[\"Number_Years_To_Repay_Debt\"] = df_train[\"Loan_Amount_Requested\"]/df_train[\"Annual_Income\"]\n",
    "df_test[\"Number_Years_To_Repay_Debt\"] = df_test[\"Loan_Amount_Requested\"]/df_test[\"Annual_Income\"]\n",
    "\n",
    "df_train.head()"
   ]
  },
  {
   "cell_type": "markdown",
   "metadata": {},
   "source": [
    "### Convert to X and Y"
   ]
  },
  {
   "cell_type": "code",
   "execution_count": 15,
   "metadata": {},
   "outputs": [
    {
     "data": {
      "text/plain": [
       "((164309, 14), (164309,), (109541, 14))"
      ]
     },
     "execution_count": 15,
     "metadata": {},
     "output_type": "execute_result"
    }
   ],
   "source": [
    "X_train, Y = df_train.drop([\"Interest_Rate\"], axis=1).values, df_train[\"Interest_Rate\"].values\n",
    "X_test = df_test.values\n",
    "\n",
    "X_train.shape, Y.shape, X_test.shape"
   ]
  },
  {
   "cell_type": "markdown",
   "metadata": {},
   "source": [
    "### Perform Validation"
   ]
  },
  {
   "cell_type": "code",
   "execution_count": 16,
   "metadata": {},
   "outputs": [
    {
     "name": "stdout",
     "output_type": "stream",
     "text": [
      "0.5364962372509364\n",
      "0.5337692541119526\n",
      "0.5332167074343459\n",
      "0.5354353011823852\n",
      "0.5371455480768109\n",
      "Average:  0.5352126096112861\n"
     ]
    }
   ],
   "source": [
    "kfold, scores = KFold(n_splits=5, shuffle=True, random_state=0), list()\n",
    "for train, test in kfold.split(X_train):\n",
    "    x_train, x_test = X_train[train], X_train[test]\n",
    "    y_train, y_test = Y[train], Y[test]\n",
    "    \n",
    "    num_class1, num_class2, num_class3 = Counter(y_train)[1], Counter(y_train)[2], Counter(y_train)[3]\n",
    "    sm = SMOTE(random_state=27, sampling_strategy={1: int(2.0*num_class1), 2: int(1.6*num_class2), 3: int(1.6*num_class3)})\n",
    "    x_train, y_train = sm.fit_resample(x_train, y_train)\n",
    "    \n",
    "    model = LGBMClassifier(random_state=27, max_depth=6, n_estimators=400)\n",
    "    model.fit(x_train, y_train, categorical_feature=[1, 2, 4, 5, 11])\n",
    "    preds = model.predict(x_test)\n",
    "    score = f1_score(y_test, preds, average=\"weighted\")\n",
    "    scores.append(score)\n",
    "    print(score)\n",
    "print(\"Average: \", sum(scores)/len(scores))"
   ]
  },
  {
   "cell_type": "markdown",
   "metadata": {},
   "source": [
    "### Make final prediction using Lightgbm"
   ]
  },
  {
   "cell_type": "code",
   "execution_count": 17,
   "metadata": {},
   "outputs": [],
   "source": [
    "# We apply SMOTE on all classes, thus increasing total sample size of each class\n",
    "# This generalizes the decision boundary\n",
    "num_class1, num_class2, num_class3 = Counter(Y)[1], Counter(Y)[2], Counter(Y)[3]\n",
    "sm = SMOTE(random_state=27, sampling_strategy={1: int(2.0*num_class1), 2: int(1.6*num_class2), 3: int(1.6*num_class3)})\n",
    "X_train_, Y_ = sm.fit_resample(X_train, Y)\n",
    "\n",
    "model = LGBMClassifier(random_state=27, max_depth=6, n_estimators=400)\n",
    "model.fit(X_train_, Y_, categorical_feature=[1, 2, 4, 5, 11])\n",
    "preds2 = model.predict_proba(X_test)"
   ]
  },
  {
   "cell_type": "markdown",
   "metadata": {},
   "source": [
    "### Check Feature Importance"
   ]
  },
  {
   "cell_type": "code",
   "execution_count": 18,
   "metadata": {},
   "outputs": [
    {
     "data": {
      "text/plain": [
       "<matplotlib.axes._subplots.AxesSubplot at 0x18f051b8c08>"
      ]
     },
     "execution_count": 18,
     "metadata": {},
     "output_type": "execute_result"
    },
    {
     "data": {
      "image/png": "[encoded data removed]",
      "text/plain": [
       "<Figure size 576x720 with 1 Axes>"
      ]
     },
     "metadata": {
      "needs_background": "light"
     },
     "output_type": "display_data"
    }
   ],
   "source": [
    "feat_imp = pd.Series(model.feature_importances_, index=df_train.drop([\"Interest_Rate\"], axis=1).columns)\n",
    "feat_imp.nlargest(30).plot(kind='barh', figsize=(8,10))"
   ]
  },
  {
   "cell_type": "markdown",
   "metadata": {},
   "source": [
    "### Ensembling"
   ]
  },
  {
   "cell_type": "code",
   "execution_count": 24,
   "metadata": {},
   "outputs": [
    {
     "name": "stdout",
     "output_type": "stream",
     "text": [
      "[[0.18386426964226404, 0.3909910366414895, 0.4251446937162464], [0.4777620315482567, 0.44860725220510544, 0.07363071624663786], [0.1449557114241491, 0.42887270085689116, 0.42617158771895974], [0.2047830279936917, 0.5097492638162919, 0.2854677081900163], [0.1104560616581047, 0.47527165238409913, 0.41427228595779614], [0.09513549578801096, 0.42101758331612893, 0.48384692089586], [0.0810944658992149, 0.3372308084525589, 0.5816747256482262], [0.027056544134038952, 0.1280071412164939, 0.8449363146494671], [0.060393040250912605, 0.2961985196471969, 0.6434084401018905], [0.05780007807570865, 0.33576710140662513, 0.6064328205176662]]\n"
     ]
    }
   ],
   "source": [
    "preds = list()\n",
    "cb_weight=0.4 # Catboost\n",
    "lb_weight=0.6 # LGBM\n",
    "for i, j in zip(preds1, preds2):\n",
    "    xx = [(cb_weight * i[0]) + (lb_weight * j[0]),\n",
    "          (cb_weight * i[1]) + (lb_weight * j[1]),\n",
    "          (cb_weight * i[2]) + (lb_weight * j[2])]\n",
    "    preds.append(xx)\n",
    "print(preds[:10])\n",
    "preds=np.argmax(preds,axis=1)+1"
   ]
  },
  {
   "cell_type": "markdown",
   "metadata": {},
   "source": [
    "### Make the final submission"
   ]
  },
  {
   "cell_type": "code",
   "execution_count": 25,
   "metadata": {},
   "outputs": [],
   "source": [
    "# df_submit = pd.DataFrame({'Loan_ID': loan_ids, 'Interest_Rate': np.argmax(preds1, axis=1)+1}) # CB submission\n",
    "# df_submit = pd.DataFrame({'Loan_ID': loan_ids, 'Interest_Rate': np.argmax(preds2, axis=1)+1}) # LGBM submission\n",
    "df_submit = pd.DataFrame({'Loan_ID': loan_ids, 'Interest_Rate': preds}) # Ensemble submission\n",
    "df_submit.to_csv(\"submit1.csv\", index=False)"
   ]
  },
  {
   "cell_type": "code",
   "execution_count": null,
   "metadata": {},
   "outputs": [],
   "source": []
  }
 ],
 "metadata": {
  "kernelspec": {
   "display_name": "Python 3",
   "language": "python",
   "name": "python3"
  },
  "language_info": {
   "codemirror_mode": {
    "name": "ipython",
    "version": 3
   },
   "file_extension": ".py",
   "mimetype": "text/x-python",
   "name": "python",
   "nbconvert_exporter": "python",
   "pygments_lexer": "ipython3",
   "version": "3.7.4"
  }
 },
 "nbformat": 4,
 "nbformat_minor": 4
}
